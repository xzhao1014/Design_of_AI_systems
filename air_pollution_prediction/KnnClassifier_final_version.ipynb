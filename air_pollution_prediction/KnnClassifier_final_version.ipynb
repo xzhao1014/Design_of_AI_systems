{
 "cells": [
  {
   "cell_type": "code",
   "execution_count": null,
   "metadata": {},
   "outputs": [],
   "source": [
    "import pandas as pd\n",
    "import numpy as np\n",
    "from scipy.spatial import distance\n",
    "from sklearn.metrics import mean_squared_error\n",
    "\n",
    "bj_df = pd.read_csv('Beijing_labeled.csv')\n",
    "sy_df = pd.read_csv('Shenyang_labeled.csv')\n",
    "merge = bj_df.append(sy_df)\n",
    "\n",
    "#shuffle the data\n",
    "#merge = merge.sample(frac=1).reset_index(drop=True)\n",
    "\n",
    "#drop the null value if existing\n",
    "merge = merge.dropna()\n",
    "#check if the data set is balanced\n",
    "print(merge['PM_HIGH'].sum()/merge.shape[0])\n",
    "merge.head()"
   ]
  },
  {
   "cell_type": "code",
   "execution_count": null,
   "metadata": {},
   "outputs": [],
   "source": [
    "#Standardiza and normalize raw data\n",
    "from sklearn.preprocessing import StandardScaler\n",
    "features_normalized = ['season','DEWP', 'HUMI', 'PRES', 'TEMP', 'Iws', 'precipitation','cbwd_NE','cbwd_NW','cbwd_SE']\n",
    "merge[features_normalized] = StandardScaler().fit_transform(merge[features_normalized])\n",
    "merge.head()"
   ]
  },
  {
   "cell_type": "code",
   "execution_count": null,
   "metadata": {},
   "outputs": [],
   "source": [
    "#split the data set into training and validation data\n",
    "from sklearn.model_selection import train_test_split\n",
    "features_all = ['season', 'DEWP', 'HUMI', 'PRES', 'TEMP', 'Iws', 'precipitation', 'cbwd_NE','cbwd_NW','cbwd_SE']\n",
    "#features_all = ['season', 'DEWP', 'HUMI', 'PRES', 'TEMP', 'Iws', 'precipitation']\n",
    "x_train, x_test, y_train, y_test = train_test_split(merge[features_all],merge['PM_HIGH'],test_size=0.25, random_state=0)"
   ]
  },
  {
   "cell_type": "code",
   "execution_count": null,
   "metadata": {},
   "outputs": [],
   "source": [
    "from math import sqrt\n",
    "class knn_classifier(object):\n",
    "    def __init__(self):\n",
    "        pass\n",
    "\n",
    "        \n",
    "    def get_distance(self, row1, row2):\n",
    "        distance = 0\n",
    "        for i in range(len(row1)):\n",
    "            distance += (row1[i]-row2[i])**2\n",
    "        return sqrt(distance) \n",
    "        \n",
    "    def get_neighbors(self,x_train,y_train,x_test_row,k_max):\n",
    "        distance_all = list()\n",
    "        neighbors = list()\n",
    "        for i in range(x_train.shape[0]):\n",
    "            dist = self.get_distance(x_test_row, x_train.iloc[i])\n",
    "            distance_all.append((dist, y_train.iloc[i]))\n",
    "        distance_all.sort(key=lambda x:x[0])\n",
    "        for i in range(k_max):\n",
    "            neighbors.append(distance_all[i][1])\n",
    "        return neighbors\n",
    "    \n",
    "    def prediction_single(self,x_train,y_train,x_test_row,k_num):\n",
    "        neighbors = self.get_neighbors(x_train,y_train,x_test_row,k_num)\n",
    "        prediction = max(set(neighbors),key=neighbors.count)\n",
    "        return prediction\n",
    "    \n",
    "    def prediction_all(self,x_train,y_train,x_test,k_num):\n",
    "        predictions = list()\n",
    "        for i in range(x_test.shape[0]):\n",
    "            pred = self.prediction_single(x_train, y_train, x_test.iloc[i],k_num)\n",
    "            predictions.append((x_test.iloc[i].name,pred))\n",
    "        return predictions\n",
    "    \n",
    "    def model_accracy(self,y_test,predictions):\n",
    "        correct = 0\n",
    "        for i in range(len(y_test)):\n",
    "            if y_test.iloc[i] == predictions[i][1]:\n",
    "                correct +=1\n",
    "                score = correct/len(y_test)\n",
    "        return score"
   ]
  },
  {
   "cell_type": "code",
   "execution_count": null,
   "metadata": {},
   "outputs": [],
   "source": [
    "#find k value with the highest accuracy \n",
    "score = list()\n",
    "for i in range(9,31,2):\n",
    "    model = knn_classifier()\n",
    "    predictions = model.prediction_all(x_train, y_train, x_test, i)\n",
    "    sc = model.model_accracy(y_test,predictions)\n",
    "    score.append((i,sc))\n",
    "    print(i,sc)"
   ]
  },
  {
   "cell_type": "code",
   "execution_count": null,
   "metadata": {},
   "outputs": [],
   "source": [
    "#when k is 29, we get highest accuracy, thus we will set k value as 29\n",
    "score.sort(key=lambda x:x[1])\n",
    "score"
   ]
  },
  {
   "cell_type": "code",
   "execution_count": null,
   "metadata": {},
   "outputs": [],
   "source": [
    "#Evaluate the model using 'Shanghai_labeled.csv'\n",
    "test_df = pd.read_csv('Shanghai_labeled.csv')\n",
    "#Data preprocessing\n",
    "test_df = test_df.dropna()\n",
    "test_df[features_normalized] = StandardScaler().fit_transform(test_df[features_normalized])\n",
    "#Fit the model\n",
    "model = knn_classifier()\n",
    "predictions = model.prediction_all(x_train, y_train, test_df[features_all], 29)\n",
    "model.model_accracy(test_df['PM_HIGH'],predictions)"
   ]
  },
  {
   "cell_type": "code",
   "execution_count": null,
   "metadata": {},
   "outputs": [],
   "source": [
    "#evaluate the model using 'Guangzhou_labeled.csv'\n",
    "test_df = pd.read_csv('Guangzhou_labeled.csv')\n",
    "#Data preprocessing\n",
    "test_df = test_df.dropna()\n",
    "test_df[features_normalized] = StandardScaler().fit_transform(test_df[features_normalized])\n",
    "#Fit the model\n",
    "model = knn_classifier()\n",
    "predictions = model.prediction_all(x_train, y_train, test_df[features_all], 29)\n",
    "model.model_accracy(test_df['PM_HIGH'],predictions)"
   ]
  },
  {
   "cell_type": "code",
   "execution_count": 3,
   "metadata": {},
   "outputs": [
    {
     "ename": "ModuleNotFoundError",
     "evalue": "No module named 'matplotlib.backends.tkagg'",
     "output_type": "error",
     "traceback": [
      "\u001b[1;31m---------------------------------------------------------------------------\u001b[0m",
      "\u001b[1;31mModuleNotFoundError\u001b[0m                       Traceback (most recent call last)",
      "\u001b[1;32m<ipython-input-3-d46a119989b3>\u001b[0m in \u001b[0;36m<module>\u001b[1;34m\u001b[0m\n\u001b[0;32m      1\u001b[0m \u001b[1;32mimport\u001b[0m \u001b[0mmatplotlib\u001b[0m\u001b[1;33m.\u001b[0m\u001b[0mbackends\u001b[0m\u001b[1;33m.\u001b[0m\u001b[0mbackend_tkagg\u001b[0m\u001b[1;33m\u001b[0m\u001b[1;33m\u001b[0m\u001b[0m\n\u001b[1;32m----> 2\u001b[1;33m \u001b[1;32mimport\u001b[0m \u001b[0mmatplotlib\u001b[0m\u001b[1;33m.\u001b[0m\u001b[0mbackends\u001b[0m\u001b[1;33m.\u001b[0m\u001b[0mtkagg\u001b[0m \u001b[1;32mas\u001b[0m \u001b[0mtkagg\u001b[0m\u001b[1;33m\u001b[0m\u001b[1;33m\u001b[0m\u001b[0m\n\u001b[0m",
      "\u001b[1;31mModuleNotFoundError\u001b[0m: No module named 'matplotlib.backends.tkagg'"
     ]
    }
   ],
   "source": [
    "import matplotlib.backends.backend_tkagg\n",
    "import matplotlib.backends.tkagg as tkagg"
   ]
  },
  {
   "cell_type": "code",
   "execution_count": null,
   "metadata": {},
   "outputs": [],
   "source": []
  }
 ],
 "metadata": {
  "kernelspec": {
   "display_name": "Python 3",
   "language": "python",
   "name": "python3"
  },
  "language_info": {
   "codemirror_mode": {
    "name": "ipython",
    "version": 3
   },
   "file_extension": ".py",
   "mimetype": "text/x-python",
   "name": "python",
   "nbconvert_exporter": "python",
   "pygments_lexer": "ipython3",
   "version": "3.8.3"
  }
 },
 "nbformat": 4,
 "nbformat_minor": 4
}
