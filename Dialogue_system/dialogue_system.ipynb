{
 "cells": [
  {
   "cell_type": "code",
   "execution_count": 1,
   "metadata": {},
   "outputs": [],
   "source": [
    "import numpy as np\n",
    "import pandas as pd"
   ]
  },
  {
   "cell_type": "code",
   "execution_count": 140,
   "metadata": {},
   "outputs": [],
   "source": [
    "import string\n",
    "import math\n",
    "\n",
    "def text_match(input_text,database_text,questions_database):\n",
    "    input_text = input_text.lower()\n",
    "    punc = string.punctuation\n",
    "    for i in punc:\n",
    "        input_text = input_text.replace(i,' ')\n",
    "    words_input = input_text.split()\n",
    "    words_database = database_text.split()\n",
    "    words = set(words_input).union(set(words_database))\n",
    "    words_dict = dict()\n",
    "    i = 0\n",
    "    for word in words:\n",
    "        words_dict[word] = i\n",
    "        i += 1\n",
    "        \n",
    "    # Generate the word frequency vector\n",
    "    input_vector = [0]*len(words_dict)\n",
    "    for word in words_input:\n",
    "        input_vector[words_dict[word]]+=1            \n",
    "    database_vector = [0]*len(words_dict)\n",
    "    for word in words_database:\n",
    "        database_vector[words_dict[word]]+=1\n",
    "    \n",
    "    # Calculate the IDF\n",
    "    question_list = questions_database['question'].tolist()\n",
    "    total = len(question_list) # number of sentences in the database\n",
    "    IDF_vector = [1]*len(words_dict)\n",
    "    for key in words_dict:\n",
    "        i = 0\n",
    "        for item in question_list:\n",
    "            if key in item:\n",
    "                i+=1\n",
    "        IDF_vector[words_dict[key]] = math.log(total/(i+1))\n",
    "        \n",
    "    # Calculate the TF-IDF value\n",
    "    input_array = np.array(input_vector)\n",
    "    database_array = np.array(database_vector)\n",
    "    IDE_array = np.array(IDF_vector)\n",
    "    input_vector = (input_array*IDE_array).tolist()\n",
    "    database_vector = (database_array*IDE_array).tolist()\n",
    "     \n",
    "    # Calculate the cos value\n",
    "    sum = 0\n",
    "    sq1 = 0\n",
    "    sq2 = 0\n",
    "    for i in range(len(input_vector)):\n",
    "        sum += input_vector[i] * database_vector[i]\n",
    "        sq1 += pow(input_vector[i],2)\n",
    "        sq2 += pow(database_vector[i],2)\n",
    "    try: \n",
    "        result = round(float(sum) / (math.sqrt(sq1) * math.sqrt(sq2)),3)\n",
    "    except ZeroDivisionError:\n",
    "        result = 0.0\n",
    "    \n",
    "    return result\n",
    "\n",
    "# find the most mateched question class\n",
    "def find_most_match(input_text,questions_database):\n",
    "    questions_database['score'] = 0\n",
    "    for i in range(len(questions_database)):\n",
    "        questions_database.loc[i,'score'] = text_match(input_text,questions_database.loc[i,'question'],questions_database)\n",
    "#     score_mean = questions_database.groupby('class')['score'].mean()\n",
    "#     question_class = score_mean.idxmax()\n",
    "    questions_database = questions_database.sort_values(by = 'score', ascending = False)\n",
    "    if questions_database.loc[questions_database['score'].idxmax(),'score'] < 0.5:\n",
    "        return False\n",
    "    else:\n",
    "        questions_class = questions_database.loc[questions_database['score'].idxmax(),'class']\n",
    "        return questions_class\n",
    "\n",
    "def find_answer(input_city,answers_database,question_class):\n",
    "    while not input_city.lower() in answers_database.loc[:,'city'].tolist():\n",
    "        input_city = input('Sorry, I cannot find the city. Please type again. Thanks ')\n",
    "    answers = answers_database.loc[answers_database['city']==input_city.lower()][question_class].tolist()[0]\n",
    "    return answers"
   ]
  },
  {
   "cell_type": "code",
   "execution_count": 146,
   "metadata": {},
   "outputs": [],
   "source": [
    "def dialogue(questions,answers):\n",
    "    print('Hello! Nice to see you!')\n",
    "    question_class = True\n",
    "    input_city = False\n",
    "    while question_class:\n",
    "        input_text = input('Just ask me questions, and I will try to help you! ')\n",
    "        while not find_most_match(input_text,questions):\n",
    "            input_text = input('Sorry, I cannot help you with this question at the moment. Do you mind changing another one? ')    \n",
    "        question_class = find_most_match(input_text,questions)\n",
    "        if question_class == 'ending':\n",
    "            print(input_text)\n",
    "            return False\n",
    "        elif question_class == 'thank':\n",
    "            print('Welcome!')\n",
    "        else:\n",
    "            if not input_city:\n",
    "                input_city = input('OK. In/To which city upon your question? ')\n",
    "                answer = find_answer(input_city,answers,question_class)\n",
    "                print('The %s is %s'%(question_class,answer))\n",
    "            else: \n",
    "                input_city_confirm = input('Is it the same city %s '%(input_city)+'as you have mentioned? ' )\n",
    "                if input_city_confirm.lower() == 'yes':\n",
    "                    answer = find_answer(input_city,answers,question_class)\n",
    "                    print('The %s is %s'%(question_class,answer))\n",
    "                else:\n",
    "                    input_city = input('OK. In/To which city upon your question? ')\n",
    "                    answer = find_answer(input_city,answers,question_class)\n",
    "                    print('The %s is %s'%(question_class,answer))"
   ]
  },
  {
   "cell_type": "code",
   "execution_count": 148,
   "metadata": {},
   "outputs": [
    {
     "name": "stdout",
     "output_type": "stream",
     "text": [
      "Hello! Nice to see you!\n",
      "Just ask me questions, and I will try to help you! What is the weather like today?\n",
      "OK. In/To which city upon your question? Gothenburg\n",
      "The weather is sunny, 10 degrees celsius \n",
      "Just ask me questions, and I will try to help you! Could you recommend a restaurant?\n",
      "Is it the same city Gothenburg as you have mentioned? Yes\n",
      "The restaurant is SWEDISH TASTE\n",
      "Just ask me questions, and I will try to help you! What time is the next bus?\n",
      "Is it the same city Gothenburg as you have mentioned? No\n",
      "OK. In/To which city upon your question? Stockholm\n",
      "The bus is 10 min later at B bus station \n",
      "Just ask me questions, and I will try to help you! Where is the nearest hospital?\n",
      "Sorry, I cannot help you with this question at the moment. Do you mind changing another one? No, thank you\n",
      "Welcome!\n",
      "Just ask me questions, and I will try to help you! See you\n",
      "See you\n"
     ]
    },
    {
     "data": {
      "text/plain": [
       "False"
      ]
     },
     "execution_count": 148,
     "metadata": {},
     "output_type": "execute_result"
    }
   ],
   "source": [
    "questions = pd.read_csv('questions.csv')\n",
    "answers = pd.read_csv('answers.csv')\n",
    "dialogue(questions,answers)"
   ]
  },
  {
   "cell_type": "code",
   "execution_count": null,
   "metadata": {},
   "outputs": [],
   "source": []
  }
 ],
 "metadata": {
  "kernelspec": {
   "display_name": "Python 3",
   "language": "python",
   "name": "python3"
  },
  "language_info": {
   "codemirror_mode": {
    "name": "ipython",
    "version": 3
   },
   "file_extension": ".py",
   "mimetype": "text/x-python",
   "name": "python",
   "nbconvert_exporter": "python",
   "pygments_lexer": "ipython3",
   "version": "3.8.3"
  }
 },
 "nbformat": 4,
 "nbformat_minor": 4
}
